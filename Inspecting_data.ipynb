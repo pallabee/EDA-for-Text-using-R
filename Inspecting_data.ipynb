{
 "cells": [
  {
   "cell_type": "code",
   "execution_count": 4,
   "id": "f6570fb5",
   "metadata": {},
   "outputs": [],
   "source": [
    "path <- file.path(\"~\",\"manning/data/csv\",\"legislation.csv\")"
   ]
  },
  {
   "cell_type": "code",
   "execution_count": 5,
   "id": "4a37ef0b",
   "metadata": {},
   "outputs": [
    {
     "data": {
      "text/html": [
       "'~/manning/data/csv/legislation.csv'"
      ],
      "text/latex": [
       "'\\textasciitilde{}/manning/data/csv/legislation.csv'"
      ],
      "text/markdown": [
       "'~/manning/data/csv/legislation.csv'"
      ],
      "text/plain": [
       "[1] \"~/manning/data/csv/legislation.csv\""
      ]
     },
     "metadata": {},
     "output_type": "display_data"
    }
   ],
   "source": [
    "path"
   ]
  },
  {
   "cell_type": "code",
   "execution_count": 21,
   "id": "b1011a25",
   "metadata": {},
   "outputs": [],
   "source": [
    "df <- read.csv(path, stringsAsFactors=FALSE,\n",
    "               colClasses = c(\"integer\",\"integer\",\"integer\",\"factor\", \"integer\",\"character\",\"integer\"))"
   ]
  },
  {
   "cell_type": "code",
   "execution_count": 22,
   "id": "95bc4478",
   "metadata": {},
   "outputs": [
    {
     "name": "stdout",
     "output_type": "stream",
     "text": [
      "'data.frame':\t466449 obs. of  7 variables:\n",
      " $ id         : int  38183 38184 38185 38186 38187 38188 38189 38190 38191 38192 ...\n",
      " $ year       : int  1947 1947 1947 1947 1947 1947 1947 1947 1947 1947 ...\n",
      " $ cong       : int  80 80 80 80 80 80 80 80 80 80 ...\n",
      " $ bill_type  : Factor w/ 2 levels \"HR\",\"S\": 1 1 1 1 1 1 1 1 1 1 ...\n",
      " $ bill_no    : int  1 2 3 4 5 6 7 8 9 10 ...\n",
      " $ description: chr  \"To reduce individual income tax payments\" \"To amend the Armed Forces Leave Act of 1946 by providing optional cash payment of terminal leave bonds, and for other purposes\" \"To amend the Armed Forces Leave Act of 1946 to permit future applicants to elect to be compensated for terminal\"| __truncated__ \"To safeguard the admission of evidence in certain cases\" ...\n",
      " $ policy     : int  1 16 16 12 16 16 2 5 21 21 ...\n"
     ]
    }
   ],
   "source": [
    "str(df)"
   ]
  },
  {
   "cell_type": "code",
   "execution_count": 20,
   "id": "68a1af37",
   "metadata": {},
   "outputs": [
    {
     "data": {
      "text/html": [
       "<table class=\"dataframe\">\n",
       "<caption>A data.frame: 6 × 7</caption>\n",
       "<thead>\n",
       "\t<tr><th></th><th scope=col>id</th><th scope=col>year</th><th scope=col>cong</th><th scope=col>bill_type</th><th scope=col>bill_no</th><th scope=col>description</th><th scope=col>policy</th></tr>\n",
       "\t<tr><th></th><th scope=col>&lt;dbl&gt;</th><th scope=col>&lt;dbl&gt;</th><th scope=col>&lt;dbl&gt;</th><th scope=col>&lt;fct&gt;</th><th scope=col>&lt;dbl&gt;</th><th scope=col>&lt;chr&gt;</th><th scope=col>&lt;dbl&gt;</th></tr>\n",
       "</thead>\n",
       "<tbody>\n",
       "\t<tr><th scope=row>1</th><td>38183</td><td>1947</td><td>80</td><td>HR</td><td>1</td><td>To reduce individual income tax payments                                                                                                                                                                                                           </td><td> 1</td></tr>\n",
       "\t<tr><th scope=row>2</th><td>38184</td><td>1947</td><td>80</td><td>HR</td><td>2</td><td>To amend the Armed Forces Leave Act of 1946 by providing optional cash payment of terminal leave bonds, and for other purposes                                                                                                                     </td><td>16</td></tr>\n",
       "\t<tr><th scope=row>3</th><td>38185</td><td>1947</td><td>80</td><td>HR</td><td>3</td><td>To amend the Armed Forces Leave Act of 1946 to permit future applicants to elect to be compensated for terminal leave in cash in lieu of bonds, to provide that bonds issued under such act shall be redeemable at any time, and for other purposes</td><td>16</td></tr>\n",
       "\t<tr><th scope=row>4</th><td>38186</td><td>1947</td><td>80</td><td>HR</td><td>4</td><td>To safeguard the admission of evidence in certain cases                                                                                                                                                                                            </td><td>12</td></tr>\n",
       "\t<tr><th scope=row>5</th><td>38187</td><td>1947</td><td>80</td><td>HR</td><td>5</td><td>To protect honorably discharged veterans in their rights to join or refrain from joining labor and other organizations                                                                                                                             </td><td>16</td></tr>\n",
       "\t<tr><th scope=row>6</th><td>38188</td><td>1947</td><td>80</td><td>HR</td><td>6</td><td>To amend the Armed Forces Leave Act of 1946 to provide that bonds issued under such act shall be redeemable at any time                                                                                                                            </td><td>16</td></tr>\n",
       "</tbody>\n",
       "</table>\n"
      ],
      "text/latex": [
       "A data.frame: 6 × 7\n",
       "\\begin{tabular}{r|lllllll}\n",
       "  & id & year & cong & bill\\_type & bill\\_no & description & policy\\\\\n",
       "  & <dbl> & <dbl> & <dbl> & <fct> & <dbl> & <chr> & <dbl>\\\\\n",
       "\\hline\n",
       "\t1 & 38183 & 1947 & 80 & HR & 1 & To reduce individual income tax payments                                                                                                                                                                                                            &  1\\\\\n",
       "\t2 & 38184 & 1947 & 80 & HR & 2 & To amend the Armed Forces Leave Act of 1946 by providing optional cash payment of terminal leave bonds, and for other purposes                                                                                                                      & 16\\\\\n",
       "\t3 & 38185 & 1947 & 80 & HR & 3 & To amend the Armed Forces Leave Act of 1946 to permit future applicants to elect to be compensated for terminal leave in cash in lieu of bonds, to provide that bonds issued under such act shall be redeemable at any time, and for other purposes & 16\\\\\n",
       "\t4 & 38186 & 1947 & 80 & HR & 4 & To safeguard the admission of evidence in certain cases                                                                                                                                                                                             & 12\\\\\n",
       "\t5 & 38187 & 1947 & 80 & HR & 5 & To protect honorably discharged veterans in their rights to join or refrain from joining labor and other organizations                                                                                                                              & 16\\\\\n",
       "\t6 & 38188 & 1947 & 80 & HR & 6 & To amend the Armed Forces Leave Act of 1946 to provide that bonds issued under such act shall be redeemable at any time                                                                                                                             & 16\\\\\n",
       "\\end{tabular}\n"
      ],
      "text/markdown": [
       "\n",
       "A data.frame: 6 × 7\n",
       "\n",
       "| <!--/--> | id &lt;dbl&gt; | year &lt;dbl&gt; | cong &lt;dbl&gt; | bill_type &lt;fct&gt; | bill_no &lt;dbl&gt; | description &lt;chr&gt; | policy &lt;dbl&gt; |\n",
       "|---|---|---|---|---|---|---|---|\n",
       "| 1 | 38183 | 1947 | 80 | HR | 1 | To reduce individual income tax payments                                                                                                                                                                                                            |  1 |\n",
       "| 2 | 38184 | 1947 | 80 | HR | 2 | To amend the Armed Forces Leave Act of 1946 by providing optional cash payment of terminal leave bonds, and for other purposes                                                                                                                      | 16 |\n",
       "| 3 | 38185 | 1947 | 80 | HR | 3 | To amend the Armed Forces Leave Act of 1946 to permit future applicants to elect to be compensated for terminal leave in cash in lieu of bonds, to provide that bonds issued under such act shall be redeemable at any time, and for other purposes | 16 |\n",
       "| 4 | 38186 | 1947 | 80 | HR | 4 | To safeguard the admission of evidence in certain cases                                                                                                                                                                                             | 12 |\n",
       "| 5 | 38187 | 1947 | 80 | HR | 5 | To protect honorably discharged veterans in their rights to join or refrain from joining labor and other organizations                                                                                                                              | 16 |\n",
       "| 6 | 38188 | 1947 | 80 | HR | 6 | To amend the Armed Forces Leave Act of 1946 to provide that bonds issued under such act shall be redeemable at any time                                                                                                                             | 16 |\n",
       "\n"
      ],
      "text/plain": [
       "  id    year cong bill_type bill_no\n",
       "1 38183 1947 80   HR        1      \n",
       "2 38184 1947 80   HR        2      \n",
       "3 38185 1947 80   HR        3      \n",
       "4 38186 1947 80   HR        4      \n",
       "5 38187 1947 80   HR        5      \n",
       "6 38188 1947 80   HR        6      \n",
       "  description                                                                                                                                                                                                                                        \n",
       "1 To reduce individual income tax payments                                                                                                                                                                                                           \n",
       "2 To amend the Armed Forces Leave Act of 1946 by providing optional cash payment of terminal leave bonds, and for other purposes                                                                                                                     \n",
       "3 To amend the Armed Forces Leave Act of 1946 to permit future applicants to elect to be compensated for terminal leave in cash in lieu of bonds, to provide that bonds issued under such act shall be redeemable at any time, and for other purposes\n",
       "4 To safeguard the admission of evidence in certain cases                                                                                                                                                                                            \n",
       "5 To protect honorably discharged veterans in their rights to join or refrain from joining labor and other organizations                                                                                                                             \n",
       "6 To amend the Armed Forces Leave Act of 1946 to provide that bonds issued under such act shall be redeemable at any time                                                                                                                            \n",
       "  policy\n",
       "1  1    \n",
       "2 16    \n",
       "3 16    \n",
       "4 12    \n",
       "5 16    \n",
       "6 16    "
      ]
     },
     "metadata": {},
     "output_type": "display_data"
    }
   ],
   "source": [
    "head(df)"
   ]
  },
  {
   "cell_type": "code",
   "execution_count": null,
   "id": "4253ced0",
   "metadata": {},
   "outputs": [],
   "source": []
  }
 ],
 "metadata": {
  "kernelspec": {
   "display_name": "R",
   "language": "R",
   "name": "ir"
  },
  "language_info": {
   "codemirror_mode": "r",
   "file_extension": ".r",
   "mimetype": "text/x-r-source",
   "name": "R",
   "pygments_lexer": "r",
   "version": "4.2.1"
  }
 },
 "nbformat": 4,
 "nbformat_minor": 5
}
