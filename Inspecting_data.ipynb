{
 "cells": [
  {
   "cell_type": "code",
   "execution_count": 1,
   "id": "02da3c6d",
   "metadata": {},
   "outputs": [
    {
     "name": "stderr",
     "output_type": "stream",
     "text": [
      "\n",
      "Attaching package: ‘dplyr’\n",
      "\n",
      "\n",
      "The following objects are masked from ‘package:stats’:\n",
      "\n",
      "    filter, lag\n",
      "\n",
      "\n",
      "The following objects are masked from ‘package:base’:\n",
      "\n",
      "    intersect, setdiff, setequal, union\n",
      "\n",
      "\n"
     ]
    }
   ],
   "source": [
    "# Loading libraries in R\n",
    "library(readr)\n",
    "library(dplyr)\n",
    "library(ggplot2)"
   ]
  },
  {
   "cell_type": "code",
   "execution_count": 2,
   "id": "05365746",
   "metadata": {},
   "outputs": [],
   "source": [
    "path <- file.path(\"~\",\"manning/data/csv\",\"legislation.csv\")"
   ]
  },
  {
   "cell_type": "code",
   "execution_count": 3,
   "id": "e123f4a2",
   "metadata": {},
   "outputs": [],
   "source": [
    "# df <- read.csv(path, stringsAsFactors=FALSE,\n",
    "#                colClasses = c(\"integer\",\"integer\",\"integer\",\"factor\", \"integer\",\"character\",\"integer\"))"
   ]
  },
  {
   "cell_type": "code",
   "execution_count": 4,
   "id": "88ab4b40",
   "metadata": {
    "scrolled": false
   },
   "outputs": [],
   "source": [
    "# str(df)"
   ]
  },
  {
   "cell_type": "code",
   "execution_count": 5,
   "id": "d51b24bc",
   "metadata": {},
   "outputs": [],
   "source": [
    "# head(df)"
   ]
  },
  {
   "cell_type": "code",
   "execution_count": 6,
   "id": "38192a4f",
   "metadata": {},
   "outputs": [
    {
     "data": {
      "text/html": [
       "<table class=\"dataframe\">\n",
       "<caption>A tibble: 6 × 7</caption>\n",
       "<thead>\n",
       "\t<tr><th scope=col>id</th><th scope=col>year</th><th scope=col>cong</th><th scope=col>bill_type</th><th scope=col>bill_no</th><th scope=col>description</th><th scope=col>policy</th></tr>\n",
       "\t<tr><th scope=col>&lt;dbl&gt;</th><th scope=col>&lt;dbl&gt;</th><th scope=col>&lt;dbl&gt;</th><th scope=col>&lt;chr&gt;</th><th scope=col>&lt;dbl&gt;</th><th scope=col>&lt;chr&gt;</th><th scope=col>&lt;dbl&gt;</th></tr>\n",
       "</thead>\n",
       "<tbody>\n",
       "\t<tr><td>38183</td><td>1947</td><td>80</td><td>HR</td><td>1</td><td>To reduce individual income tax payments                                                                                                                                                                                                           </td><td> 1</td></tr>\n",
       "\t<tr><td>38184</td><td>1947</td><td>80</td><td>HR</td><td>2</td><td>To amend the Armed Forces Leave Act of 1946 by providing optional cash payment of terminal leave bonds, and for other purposes                                                                                                                     </td><td>16</td></tr>\n",
       "\t<tr><td>38185</td><td>1947</td><td>80</td><td>HR</td><td>3</td><td>To amend the Armed Forces Leave Act of 1946 to permit future applicants to elect to be compensated for terminal leave in cash in lieu of bonds, to provide that bonds issued under such act shall be redeemable at any time, and for other purposes</td><td>16</td></tr>\n",
       "\t<tr><td>38186</td><td>1947</td><td>80</td><td>HR</td><td>4</td><td>To safeguard the admission of evidence in certain cases                                                                                                                                                                                            </td><td>12</td></tr>\n",
       "\t<tr><td>38187</td><td>1947</td><td>80</td><td>HR</td><td>5</td><td>To protect honorably discharged veterans in their rights to join or refrain from joining labor and other organizations                                                                                                                             </td><td>16</td></tr>\n",
       "\t<tr><td>38188</td><td>1947</td><td>80</td><td>HR</td><td>6</td><td>To amend the Armed Forces Leave Act of 1946 to provide that bonds issued under such act shall be redeemable at any time                                                                                                                            </td><td>16</td></tr>\n",
       "</tbody>\n",
       "</table>\n"
      ],
      "text/latex": [
       "A tibble: 6 × 7\n",
       "\\begin{tabular}{lllllll}\n",
       " id & year & cong & bill\\_type & bill\\_no & description & policy\\\\\n",
       " <dbl> & <dbl> & <dbl> & <chr> & <dbl> & <chr> & <dbl>\\\\\n",
       "\\hline\n",
       "\t 38183 & 1947 & 80 & HR & 1 & To reduce individual income tax payments                                                                                                                                                                                                            &  1\\\\\n",
       "\t 38184 & 1947 & 80 & HR & 2 & To amend the Armed Forces Leave Act of 1946 by providing optional cash payment of terminal leave bonds, and for other purposes                                                                                                                      & 16\\\\\n",
       "\t 38185 & 1947 & 80 & HR & 3 & To amend the Armed Forces Leave Act of 1946 to permit future applicants to elect to be compensated for terminal leave in cash in lieu of bonds, to provide that bonds issued under such act shall be redeemable at any time, and for other purposes & 16\\\\\n",
       "\t 38186 & 1947 & 80 & HR & 4 & To safeguard the admission of evidence in certain cases                                                                                                                                                                                             & 12\\\\\n",
       "\t 38187 & 1947 & 80 & HR & 5 & To protect honorably discharged veterans in their rights to join or refrain from joining labor and other organizations                                                                                                                              & 16\\\\\n",
       "\t 38188 & 1947 & 80 & HR & 6 & To amend the Armed Forces Leave Act of 1946 to provide that bonds issued under such act shall be redeemable at any time                                                                                                                             & 16\\\\\n",
       "\\end{tabular}\n"
      ],
      "text/markdown": [
       "\n",
       "A tibble: 6 × 7\n",
       "\n",
       "| id &lt;dbl&gt; | year &lt;dbl&gt; | cong &lt;dbl&gt; | bill_type &lt;chr&gt; | bill_no &lt;dbl&gt; | description &lt;chr&gt; | policy &lt;dbl&gt; |\n",
       "|---|---|---|---|---|---|---|\n",
       "| 38183 | 1947 | 80 | HR | 1 | To reduce individual income tax payments                                                                                                                                                                                                            |  1 |\n",
       "| 38184 | 1947 | 80 | HR | 2 | To amend the Armed Forces Leave Act of 1946 by providing optional cash payment of terminal leave bonds, and for other purposes                                                                                                                      | 16 |\n",
       "| 38185 | 1947 | 80 | HR | 3 | To amend the Armed Forces Leave Act of 1946 to permit future applicants to elect to be compensated for terminal leave in cash in lieu of bonds, to provide that bonds issued under such act shall be redeemable at any time, and for other purposes | 16 |\n",
       "| 38186 | 1947 | 80 | HR | 4 | To safeguard the admission of evidence in certain cases                                                                                                                                                                                             | 12 |\n",
       "| 38187 | 1947 | 80 | HR | 5 | To protect honorably discharged veterans in their rights to join or refrain from joining labor and other organizations                                                                                                                              | 16 |\n",
       "| 38188 | 1947 | 80 | HR | 6 | To amend the Armed Forces Leave Act of 1946 to provide that bonds issued under such act shall be redeemable at any time                                                                                                                             | 16 |\n",
       "\n"
      ],
      "text/plain": [
       "  id    year cong bill_type bill_no\n",
       "1 38183 1947 80   HR        1      \n",
       "2 38184 1947 80   HR        2      \n",
       "3 38185 1947 80   HR        3      \n",
       "4 38186 1947 80   HR        4      \n",
       "5 38187 1947 80   HR        5      \n",
       "6 38188 1947 80   HR        6      \n",
       "  description                                                                                                                                                                                                                                        \n",
       "1 To reduce individual income tax payments                                                                                                                                                                                                           \n",
       "2 To amend the Armed Forces Leave Act of 1946 by providing optional cash payment of terminal leave bonds, and for other purposes                                                                                                                     \n",
       "3 To amend the Armed Forces Leave Act of 1946 to permit future applicants to elect to be compensated for terminal leave in cash in lieu of bonds, to provide that bonds issued under such act shall be redeemable at any time, and for other purposes\n",
       "4 To safeguard the admission of evidence in certain cases                                                                                                                                                                                            \n",
       "5 To protect honorably discharged veterans in their rights to join or refrain from joining labor and other organizations                                                                                                                             \n",
       "6 To amend the Armed Forces Leave Act of 1946 to provide that bonds issued under such act shall be redeemable at any time                                                                                                                            \n",
       "  policy\n",
       "1  1    \n",
       "2 16    \n",
       "3 16    \n",
       "4 12    \n",
       "5 16    \n",
       "6 16    "
      ]
     },
     "metadata": {},
     "output_type": "display_data"
    }
   ],
   "source": [
    "df2 = read_csv(path,show_col_types = FALSE)\n",
    "head(df2)"
   ]
  },
  {
   "cell_type": "code",
   "execution_count": 7,
   "id": "6e01c35f",
   "metadata": {},
   "outputs": [
    {
     "data": {
      "text/plain": [
       "cols(\n",
       "  id = \u001b[32mcol_double()\u001b[39m,\n",
       "  year = \u001b[32mcol_double()\u001b[39m,\n",
       "  cong = \u001b[32mcol_double()\u001b[39m,\n",
       "  bill_type = \u001b[31mcol_character()\u001b[39m,\n",
       "  bill_no = \u001b[32mcol_double()\u001b[39m,\n",
       "  description = \u001b[31mcol_character()\u001b[39m,\n",
       "  policy = \u001b[32mcol_double()\u001b[39m\n",
       ")"
      ]
     },
     "metadata": {},
     "output_type": "display_data"
    }
   ],
   "source": [
    "# Looking at the columns\n",
    "spec(df2)"
   ]
  },
  {
   "cell_type": "code",
   "execution_count": 8,
   "id": "50c7c5df",
   "metadata": {},
   "outputs": [
    {
     "name": "stdout",
     "output_type": "stream",
     "text": [
      "spec_tbl_df [466,449 × 7] (S3: spec_tbl_df/tbl_df/tbl/data.frame)\n",
      " $ id         : num [1:466449] 38183 38184 38185 38186 38187 ...\n",
      " $ year       : num [1:466449] 1947 1947 1947 1947 1947 ...\n",
      " $ cong       : num [1:466449] 80 80 80 80 80 80 80 80 80 80 ...\n",
      " $ bill_type  : chr [1:466449] \"HR\" \"HR\" \"HR\" \"HR\" ...\n",
      " $ bill_no    : num [1:466449] 1 2 3 4 5 6 7 8 9 10 ...\n",
      " $ description: chr [1:466449] \"To reduce individual income tax payments\" \"To amend the Armed Forces Leave Act of 1946 by providing optional cash payment of terminal leave bonds, and for other purposes\" \"To amend the Armed Forces Leave Act of 1946 to permit future applicants to elect to be compensated for terminal\"| __truncated__ \"To safeguard the admission of evidence in certain cases\" ...\n",
      " $ policy     : num [1:466449] 1 16 16 12 16 16 2 5 21 21 ...\n",
      " - attr(*, \"spec\")=\n",
      "  .. cols(\n",
      "  ..   id = \u001b[32mcol_double()\u001b[39m,\n",
      "  ..   year = \u001b[32mcol_double()\u001b[39m,\n",
      "  ..   cong = \u001b[32mcol_double()\u001b[39m,\n",
      "  ..   bill_type = \u001b[31mcol_character()\u001b[39m,\n",
      "  ..   bill_no = \u001b[32mcol_double()\u001b[39m,\n",
      "  ..   description = \u001b[31mcol_character()\u001b[39m,\n",
      "  ..   policy = \u001b[32mcol_double()\u001b[39m\n",
      "  .. )\n",
      " - attr(*, \"problems\")=<externalptr> \n"
     ]
    }
   ],
   "source": [
    "# Looking at the structure\n",
    "str(df2)"
   ]
  },
  {
   "cell_type": "code",
   "execution_count": 9,
   "id": "ef80a2f3",
   "metadata": {},
   "outputs": [],
   "source": [
    "# type_convert(df2)"
   ]
  },
  {
   "cell_type": "code",
   "execution_count": 10,
   "id": "749add71",
   "metadata": {},
   "outputs": [
    {
     "name": "stdout",
     "output_type": "stream",
     "text": [
      "Rows: 466,449\n",
      "Columns: 7\n",
      "$ id          \u001b[3m\u001b[90m<dbl>\u001b[39m\u001b[23m 38183, 38184, 38185, 38186, 38187, 38188, 38189, 38190, 38…\n",
      "$ year        \u001b[3m\u001b[90m<dbl>\u001b[39m\u001b[23m 1947, 1947, 1947, 1947, 1947, 1947, 1947, 1947, 1947, 1947…\n",
      "$ cong        \u001b[3m\u001b[90m<dbl>\u001b[39m\u001b[23m 80, 80, 80, 80, 80, 80, 80, 80, 80, 80, 80, 80, 80, 80, 80…\n",
      "$ bill_type   \u001b[3m\u001b[90m<chr>\u001b[39m\u001b[23m \"HR\", \"HR\", \"HR\", \"HR\", \"HR\", \"HR\", \"HR\", \"HR\", \"HR\", \"HR\"…\n",
      "$ bill_no     \u001b[3m\u001b[90m<dbl>\u001b[39m\u001b[23m 1, 2, 3, 4, 5, 6, 7, 8, 9, 10, 11, 12, 13, 14, 15, 16, 17,…\n",
      "$ description \u001b[3m\u001b[90m<chr>\u001b[39m\u001b[23m \"To reduce individual income tax payments\", \"To amend the …\n",
      "$ policy      \u001b[3m\u001b[90m<dbl>\u001b[39m\u001b[23m 1, 16, 16, 12, 16, 16, 2, 5, 21, 21, 16, 5, 10, 16, 1, 13,…\n"
     ]
    }
   ],
   "source": [
    "glimpse(df2)"
   ]
  },
  {
   "cell_type": "markdown",
   "id": "3a5b5019",
   "metadata": {},
   "source": [
    "### No. of bills by year"
   ]
  },
  {
   "cell_type": "code",
   "execution_count": 11,
   "id": "a86f3c47",
   "metadata": {},
   "outputs": [],
   "source": [
    "df2_year <- df2 %>%  \n",
    "    select(year,bill_no) %>% \n",
    "    count(year,sort=TRUE) %>% \n",
    "    rename(total_bills = n)                  "
   ]
  },
  {
   "cell_type": "code",
   "execution_count": 12,
   "id": "253fb0da",
   "metadata": {},
   "outputs": [
    {
     "data": {
      "text/html": [
       "<table class=\"dataframe\">\n",
       "<caption>A tibble: 6 × 2</caption>\n",
       "<thead>\n",
       "\t<tr><th scope=col>year</th><th scope=col>total_bills</th></tr>\n",
       "\t<tr><th scope=col>&lt;dbl&gt;</th><th scope=col>&lt;int&gt;</th></tr>\n",
       "</thead>\n",
       "<tbody>\n",
       "\t<tr><td>1969</td><td>18697</td></tr>\n",
       "\t<tr><td>1967</td><td>17390</td></tr>\n",
       "\t<tr><td>1971</td><td>15379</td></tr>\n",
       "\t<tr><td>1973</td><td>15011</td></tr>\n",
       "\t<tr><td>1965</td><td>14573</td></tr>\n",
       "\t<tr><td>1975</td><td>14192</td></tr>\n",
       "</tbody>\n",
       "</table>\n"
      ],
      "text/latex": [
       "A tibble: 6 × 2\n",
       "\\begin{tabular}{ll}\n",
       " year & total\\_bills\\\\\n",
       " <dbl> & <int>\\\\\n",
       "\\hline\n",
       "\t 1969 & 18697\\\\\n",
       "\t 1967 & 17390\\\\\n",
       "\t 1971 & 15379\\\\\n",
       "\t 1973 & 15011\\\\\n",
       "\t 1965 & 14573\\\\\n",
       "\t 1975 & 14192\\\\\n",
       "\\end{tabular}\n"
      ],
      "text/markdown": [
       "\n",
       "A tibble: 6 × 2\n",
       "\n",
       "| year &lt;dbl&gt; | total_bills &lt;int&gt; |\n",
       "|---|---|\n",
       "| 1969 | 18697 |\n",
       "| 1967 | 17390 |\n",
       "| 1971 | 15379 |\n",
       "| 1973 | 15011 |\n",
       "| 1965 | 14573 |\n",
       "| 1975 | 14192 |\n",
       "\n"
      ],
      "text/plain": [
       "  year total_bills\n",
       "1 1969 18697      \n",
       "2 1967 17390      \n",
       "3 1971 15379      \n",
       "4 1973 15011      \n",
       "5 1965 14573      \n",
       "6 1975 14192      "
      ]
     },
     "metadata": {},
     "output_type": "display_data"
    }
   ],
   "source": [
    "head(df2_year)"
   ]
  },
  {
   "cell_type": "code",
   "execution_count": 13,
   "id": "d7dff70f",
   "metadata": {},
   "outputs": [
    {
     "data": {
      "image/png": "[encoded data removed]",
      "text/plain": [
       "plot without title"
      ]
     },
     "metadata": {
      "image/png": {
       "height": 420,
       "width": 420
      }
     },
     "output_type": "display_data"
    }
   ],
   "source": [
    "ggplot(df2_year,aes(x=year, y=total_bills)) + geom_line()"
   ]
  },
  {
   "cell_type": "markdown",
   "id": "e1221c19",
   "metadata": {},
   "source": [
    "### No. of bills by policy area"
   ]
  },
  {
   "cell_type": "code",
   "execution_count": 14,
   "id": "a26527cb",
   "metadata": {},
   "outputs": [],
   "source": [
    "df2_policy <- df2 %>%  \n",
    "    select(policy,bill_no) %>% \n",
    "    count(policy,sort=TRUE) %>% \n",
    "    rename(total_bills = n) %>% \n",
    "    na.omit"
   ]
  },
  {
   "cell_type": "code",
   "execution_count": 15,
   "id": "47083cac",
   "metadata": {},
   "outputs": [
    {
     "data": {
      "text/html": [
       "<table class=\"dataframe\">\n",
       "<caption>A tibble: 6 × 2</caption>\n",
       "<thead>\n",
       "\t<tr><th scope=col>policy</th><th scope=col>total_bills</th></tr>\n",
       "\t<tr><th scope=col>&lt;dbl&gt;</th><th scope=col>&lt;int&gt;</th></tr>\n",
       "</thead>\n",
       "<tbody>\n",
       "\t<tr><td>99</td><td>79942</td></tr>\n",
       "\t<tr><td>20</td><td>50653</td></tr>\n",
       "\t<tr><td>21</td><td>39135</td></tr>\n",
       "\t<tr><td>16</td><td>33199</td></tr>\n",
       "\t<tr><td> 3</td><td>27692</td></tr>\n",
       "\t<tr><td>15</td><td>23135</td></tr>\n",
       "</tbody>\n",
       "</table>\n"
      ],
      "text/latex": [
       "A tibble: 6 × 2\n",
       "\\begin{tabular}{ll}\n",
       " policy & total\\_bills\\\\\n",
       " <dbl> & <int>\\\\\n",
       "\\hline\n",
       "\t 99 & 79942\\\\\n",
       "\t 20 & 50653\\\\\n",
       "\t 21 & 39135\\\\\n",
       "\t 16 & 33199\\\\\n",
       "\t  3 & 27692\\\\\n",
       "\t 15 & 23135\\\\\n",
       "\\end{tabular}\n"
      ],
      "text/markdown": [
       "\n",
       "A tibble: 6 × 2\n",
       "\n",
       "| policy &lt;dbl&gt; | total_bills &lt;int&gt; |\n",
       "|---|---|\n",
       "| 99 | 79942 |\n",
       "| 20 | 50653 |\n",
       "| 21 | 39135 |\n",
       "| 16 | 33199 |\n",
       "|  3 | 27692 |\n",
       "| 15 | 23135 |\n",
       "\n"
      ],
      "text/plain": [
       "  policy total_bills\n",
       "1 99     79942      \n",
       "2 20     50653      \n",
       "3 21     39135      \n",
       "4 16     33199      \n",
       "5  3     27692      \n",
       "6 15     23135      "
      ]
     },
     "metadata": {},
     "output_type": "display_data"
    }
   ],
   "source": [
    "head(df2_policy)"
   ]
  },
  {
   "cell_type": "code",
   "execution_count": 16,
   "id": "26d6efc1",
   "metadata": {},
   "outputs": [
    {
     "data": {
      "image/png": "[encoded data removed]",
      "text/plain": [
       "plot without title"
      ]
     },
     "metadata": {
      "image/png": {
       "height": 420,
       "width": 420
      }
     },
     "output_type": "display_data"
    }
   ],
   "source": [
    "ggplot(df2_policy,aes(x=policy, y=total_bills)) + geom_point(aes(size=total_bills))"
   ]
  },
  {
   "cell_type": "markdown",
   "id": "23f5095d",
   "metadata": {},
   "source": [
    "### No. of bills by Congressional term"
   ]
  },
  {
   "cell_type": "code",
   "execution_count": 17,
   "id": "422ff6ef",
   "metadata": {},
   "outputs": [],
   "source": [
    "df2_cong <- df2 %>%  \n",
    "    select(cong,bill_no) %>% \n",
    "    count(cong,sort=TRUE) %>% \n",
    "    rename(total_bills = n) %>% \n",
    "    na.omit"
   ]
  },
  {
   "cell_type": "code",
   "execution_count": 18,
   "id": "779a032c",
   "metadata": {
    "scrolled": true
   },
   "outputs": [
    {
     "data": {
      "text/html": [
       "<table class=\"dataframe\">\n",
       "<caption>A tibble: 35 × 2</caption>\n",
       "<thead>\n",
       "\t<tr><th scope=col>cong</th><th scope=col>total_bills</th></tr>\n",
       "\t<tr><th scope=col>&lt;dbl&gt;</th><th scope=col>&lt;int&gt;</th></tr>\n",
       "</thead>\n",
       "<tbody>\n",
       "\t<tr><td> 90</td><td>24758</td></tr>\n",
       "\t<tr><td> 91</td><td>24588</td></tr>\n",
       "\t<tr><td> 89</td><td>22445</td></tr>\n",
       "\t<tr><td> 93</td><td>21950</td></tr>\n",
       "\t<tr><td> 92</td><td>21307</td></tr>\n",
       "\t<tr><td> 94</td><td>19762</td></tr>\n",
       "\t<tr><td> 85</td><td>18172</td></tr>\n",
       "\t<tr><td> 95</td><td>18045</td></tr>\n",
       "\t<tr><td> 87</td><td>17210</td></tr>\n",
       "\t<tr><td> 86</td><td>17171</td></tr>\n",
       "\t<tr><td> 84</td><td>16743</td></tr>\n",
       "\t<tr><td> 88</td><td>16052</td></tr>\n",
       "\t<tr><td> 81</td><td>14148</td></tr>\n",
       "\t<tr><td> 83</td><td>14140</td></tr>\n",
       "\t<tr><td> 82</td><td>12034</td></tr>\n",
       "\t<tr><td> 96</td><td>11721</td></tr>\n",
       "\t<tr><td>110</td><td>11081</td></tr>\n",
       "\t<tr><td>111</td><td>10629</td></tr>\n",
       "\t<tr><td> 97</td><td>10581</td></tr>\n",
       "\t<tr><td>109</td><td>10558</td></tr>\n",
       "\t<tr><td>112</td><td>10434</td></tr>\n",
       "\t<tr><td> 80</td><td>10072</td></tr>\n",
       "\t<tr><td>114</td><td>10014</td></tr>\n",
       "\t<tr><td>102</td><td> 9602</td></tr>\n",
       "\t<tr><td> 98</td><td> 9538</td></tr>\n",
       "\t<tr><td>101</td><td> 9248</td></tr>\n",
       "\t<tr><td>106</td><td> 8968</td></tr>\n",
       "\t<tr><td>107</td><td> 8946</td></tr>\n",
       "\t<tr><td>113</td><td> 8909</td></tr>\n",
       "\t<tr><td> 99</td><td> 8697</td></tr>\n",
       "\t<tr><td>100</td><td> 8509</td></tr>\n",
       "\t<tr><td>108</td><td> 8466</td></tr>\n",
       "\t<tr><td>103</td><td> 7879</td></tr>\n",
       "\t<tr><td>105</td><td> 7529</td></tr>\n",
       "\t<tr><td>104</td><td> 6543</td></tr>\n",
       "</tbody>\n",
       "</table>\n"
      ],
      "text/latex": [
       "A tibble: 35 × 2\n",
       "\\begin{tabular}{ll}\n",
       " cong & total\\_bills\\\\\n",
       " <dbl> & <int>\\\\\n",
       "\\hline\n",
       "\t  90 & 24758\\\\\n",
       "\t  91 & 24588\\\\\n",
       "\t  89 & 22445\\\\\n",
       "\t  93 & 21950\\\\\n",
       "\t  92 & 21307\\\\\n",
       "\t  94 & 19762\\\\\n",
       "\t  85 & 18172\\\\\n",
       "\t  95 & 18045\\\\\n",
       "\t  87 & 17210\\\\\n",
       "\t  86 & 17171\\\\\n",
       "\t  84 & 16743\\\\\n",
       "\t  88 & 16052\\\\\n",
       "\t  81 & 14148\\\\\n",
       "\t  83 & 14140\\\\\n",
       "\t  82 & 12034\\\\\n",
       "\t  96 & 11721\\\\\n",
       "\t 110 & 11081\\\\\n",
       "\t 111 & 10629\\\\\n",
       "\t  97 & 10581\\\\\n",
       "\t 109 & 10558\\\\\n",
       "\t 112 & 10434\\\\\n",
       "\t  80 & 10072\\\\\n",
       "\t 114 & 10014\\\\\n",
       "\t 102 &  9602\\\\\n",
       "\t  98 &  9538\\\\\n",
       "\t 101 &  9248\\\\\n",
       "\t 106 &  8968\\\\\n",
       "\t 107 &  8946\\\\\n",
       "\t 113 &  8909\\\\\n",
       "\t  99 &  8697\\\\\n",
       "\t 100 &  8509\\\\\n",
       "\t 108 &  8466\\\\\n",
       "\t 103 &  7879\\\\\n",
       "\t 105 &  7529\\\\\n",
       "\t 104 &  6543\\\\\n",
       "\\end{tabular}\n"
      ],
      "text/markdown": [
       "\n",
       "A tibble: 35 × 2\n",
       "\n",
       "| cong &lt;dbl&gt; | total_bills &lt;int&gt; |\n",
       "|---|---|\n",
       "|  90 | 24758 |\n",
       "|  91 | 24588 |\n",
       "|  89 | 22445 |\n",
       "|  93 | 21950 |\n",
       "|  92 | 21307 |\n",
       "|  94 | 19762 |\n",
       "|  85 | 18172 |\n",
       "|  95 | 18045 |\n",
       "|  87 | 17210 |\n",
       "|  86 | 17171 |\n",
       "|  84 | 16743 |\n",
       "|  88 | 16052 |\n",
       "|  81 | 14148 |\n",
       "|  83 | 14140 |\n",
       "|  82 | 12034 |\n",
       "|  96 | 11721 |\n",
       "| 110 | 11081 |\n",
       "| 111 | 10629 |\n",
       "|  97 | 10581 |\n",
       "| 109 | 10558 |\n",
       "| 112 | 10434 |\n",
       "|  80 | 10072 |\n",
       "| 114 | 10014 |\n",
       "| 102 |  9602 |\n",
       "|  98 |  9538 |\n",
       "| 101 |  9248 |\n",
       "| 106 |  8968 |\n",
       "| 107 |  8946 |\n",
       "| 113 |  8909 |\n",
       "|  99 |  8697 |\n",
       "| 100 |  8509 |\n",
       "| 108 |  8466 |\n",
       "| 103 |  7879 |\n",
       "| 105 |  7529 |\n",
       "| 104 |  6543 |\n",
       "\n"
      ],
      "text/plain": [
       "   cong total_bills\n",
       "1   90  24758      \n",
       "2   91  24588      \n",
       "3   89  22445      \n",
       "4   93  21950      \n",
       "5   92  21307      \n",
       "6   94  19762      \n",
       "7   85  18172      \n",
       "8   95  18045      \n",
       "9   87  17210      \n",
       "10  86  17171      \n",
       "11  84  16743      \n",
       "12  88  16052      \n",
       "13  81  14148      \n",
       "14  83  14140      \n",
       "15  82  12034      \n",
       "16  96  11721      \n",
       "17 110  11081      \n",
       "18 111  10629      \n",
       "19  97  10581      \n",
       "20 109  10558      \n",
       "21 112  10434      \n",
       "22  80  10072      \n",
       "23 114  10014      \n",
       "24 102   9602      \n",
       "25  98   9538      \n",
       "26 101   9248      \n",
       "27 106   8968      \n",
       "28 107   8946      \n",
       "29 113   8909      \n",
       "30  99   8697      \n",
       "31 100   8509      \n",
       "32 108   8466      \n",
       "33 103   7879      \n",
       "34 105   7529      \n",
       "35 104   6543      "
      ]
     },
     "metadata": {},
     "output_type": "display_data"
    }
   ],
   "source": [
    "df2_cong"
   ]
  },
  {
   "cell_type": "code",
   "execution_count": 19,
   "id": "9dc20e91",
   "metadata": {
    "scrolled": false
   },
   "outputs": [
    {
     "data": {
      "image/png": "[encoded data removed]",
      "text/plain": [
       "plot without title"
      ]
     },
     "metadata": {
      "image/png": {
       "height": 420,
       "width": 420
      }
     },
     "output_type": "display_data"
    }
   ],
   "source": [
    "ggplot(df2_cong,aes(x=cong, y=total_bills)) + geom_line()"
   ]
  },
  {
   "cell_type": "markdown",
   "id": "bd527fbb",
   "metadata": {},
   "source": [
    "### Bills classified as \"Other\" for each Congressional term"
   ]
  },
  {
   "cell_type": "code",
   "execution_count": 20,
   "id": "37af69fa",
   "metadata": {},
   "outputs": [],
   "source": [
    "df2_cong_others <- df2 %>%\n",
    "    select(cong,policy) %>%\n",
    "    filter(policy == 99) %>%\n",
    "    count(cong,sort=TRUE)%>%\n",
    "    rename(other_bills = n)    "
   ]
  },
  {
   "cell_type": "code",
   "execution_count": 21,
   "id": "86594c66",
   "metadata": {},
   "outputs": [
    {
     "data": {
      "text/html": [
       "<table class=\"dataframe\">\n",
       "<caption>A tibble: 34 × 2</caption>\n",
       "<thead>\n",
       "\t<tr><th scope=col>cong</th><th scope=col>other_bills</th></tr>\n",
       "\t<tr><th scope=col>&lt;dbl&gt;</th><th scope=col>&lt;int&gt;</th></tr>\n",
       "</thead>\n",
       "<tbody>\n",
       "\t<tr><td> 90</td><td>8443</td></tr>\n",
       "\t<tr><td> 91</td><td>7256</td></tr>\n",
       "\t<tr><td> 89</td><td>6508</td></tr>\n",
       "\t<tr><td> 83</td><td>5944</td></tr>\n",
       "\t<tr><td> 85</td><td>5751</td></tr>\n",
       "\t<tr><td> 84</td><td>5699</td></tr>\n",
       "\t<tr><td> 82</td><td>4991</td></tr>\n",
       "\t<tr><td> 87</td><td>4742</td></tr>\n",
       "\t<tr><td> 81</td><td>4698</td></tr>\n",
       "\t<tr><td> 88</td><td>4636</td></tr>\n",
       "\t<tr><td> 86</td><td>4274</td></tr>\n",
       "\t<tr><td> 92</td><td>3722</td></tr>\n",
       "\t<tr><td> 80</td><td>2715</td></tr>\n",
       "\t<tr><td> 93</td><td>1671</td></tr>\n",
       "\t<tr><td> 94</td><td>1498</td></tr>\n",
       "\t<tr><td> 95</td><td>1472</td></tr>\n",
       "\t<tr><td> 96</td><td>1323</td></tr>\n",
       "\t<tr><td> 97</td><td>1034</td></tr>\n",
       "\t<tr><td> 98</td><td> 714</td></tr>\n",
       "\t<tr><td> 99</td><td> 578</td></tr>\n",
       "\t<tr><td>100</td><td> 407</td></tr>\n",
       "\t<tr><td>101</td><td> 267</td></tr>\n",
       "\t<tr><td>102</td><td> 187</td></tr>\n",
       "\t<tr><td>109</td><td> 170</td></tr>\n",
       "\t<tr><td>106</td><td> 158</td></tr>\n",
       "\t<tr><td>103</td><td> 151</td></tr>\n",
       "\t<tr><td>111</td><td> 150</td></tr>\n",
       "\t<tr><td>110</td><td> 146</td></tr>\n",
       "\t<tr><td>105</td><td> 142</td></tr>\n",
       "\t<tr><td>108</td><td> 135</td></tr>\n",
       "\t<tr><td>104</td><td> 112</td></tr>\n",
       "\t<tr><td>107</td><td> 108</td></tr>\n",
       "\t<tr><td>112</td><td>  77</td></tr>\n",
       "\t<tr><td>113</td><td>  63</td></tr>\n",
       "</tbody>\n",
       "</table>\n"
      ],
      "text/latex": [
       "A tibble: 34 × 2\n",
       "\\begin{tabular}{ll}\n",
       " cong & other\\_bills\\\\\n",
       " <dbl> & <int>\\\\\n",
       "\\hline\n",
       "\t  90 & 8443\\\\\n",
       "\t  91 & 7256\\\\\n",
       "\t  89 & 6508\\\\\n",
       "\t  83 & 5944\\\\\n",
       "\t  85 & 5751\\\\\n",
       "\t  84 & 5699\\\\\n",
       "\t  82 & 4991\\\\\n",
       "\t  87 & 4742\\\\\n",
       "\t  81 & 4698\\\\\n",
       "\t  88 & 4636\\\\\n",
       "\t  86 & 4274\\\\\n",
       "\t  92 & 3722\\\\\n",
       "\t  80 & 2715\\\\\n",
       "\t  93 & 1671\\\\\n",
       "\t  94 & 1498\\\\\n",
       "\t  95 & 1472\\\\\n",
       "\t  96 & 1323\\\\\n",
       "\t  97 & 1034\\\\\n",
       "\t  98 &  714\\\\\n",
       "\t  99 &  578\\\\\n",
       "\t 100 &  407\\\\\n",
       "\t 101 &  267\\\\\n",
       "\t 102 &  187\\\\\n",
       "\t 109 &  170\\\\\n",
       "\t 106 &  158\\\\\n",
       "\t 103 &  151\\\\\n",
       "\t 111 &  150\\\\\n",
       "\t 110 &  146\\\\\n",
       "\t 105 &  142\\\\\n",
       "\t 108 &  135\\\\\n",
       "\t 104 &  112\\\\\n",
       "\t 107 &  108\\\\\n",
       "\t 112 &   77\\\\\n",
       "\t 113 &   63\\\\\n",
       "\\end{tabular}\n"
      ],
      "text/markdown": [
       "\n",
       "A tibble: 34 × 2\n",
       "\n",
       "| cong &lt;dbl&gt; | other_bills &lt;int&gt; |\n",
       "|---|---|\n",
       "|  90 | 8443 |\n",
       "|  91 | 7256 |\n",
       "|  89 | 6508 |\n",
       "|  83 | 5944 |\n",
       "|  85 | 5751 |\n",
       "|  84 | 5699 |\n",
       "|  82 | 4991 |\n",
       "|  87 | 4742 |\n",
       "|  81 | 4698 |\n",
       "|  88 | 4636 |\n",
       "|  86 | 4274 |\n",
       "|  92 | 3722 |\n",
       "|  80 | 2715 |\n",
       "|  93 | 1671 |\n",
       "|  94 | 1498 |\n",
       "|  95 | 1472 |\n",
       "|  96 | 1323 |\n",
       "|  97 | 1034 |\n",
       "|  98 |  714 |\n",
       "|  99 |  578 |\n",
       "| 100 |  407 |\n",
       "| 101 |  267 |\n",
       "| 102 |  187 |\n",
       "| 109 |  170 |\n",
       "| 106 |  158 |\n",
       "| 103 |  151 |\n",
       "| 111 |  150 |\n",
       "| 110 |  146 |\n",
       "| 105 |  142 |\n",
       "| 108 |  135 |\n",
       "| 104 |  112 |\n",
       "| 107 |  108 |\n",
       "| 112 |   77 |\n",
       "| 113 |   63 |\n",
       "\n"
      ],
      "text/plain": [
       "   cong other_bills\n",
       "1   90  8443       \n",
       "2   91  7256       \n",
       "3   89  6508       \n",
       "4   83  5944       \n",
       "5   85  5751       \n",
       "6   84  5699       \n",
       "7   82  4991       \n",
       "8   87  4742       \n",
       "9   81  4698       \n",
       "10  88  4636       \n",
       "11  86  4274       \n",
       "12  92  3722       \n",
       "13  80  2715       \n",
       "14  93  1671       \n",
       "15  94  1498       \n",
       "16  95  1472       \n",
       "17  96  1323       \n",
       "18  97  1034       \n",
       "19  98   714       \n",
       "20  99   578       \n",
       "21 100   407       \n",
       "22 101   267       \n",
       "23 102   187       \n",
       "24 109   170       \n",
       "25 106   158       \n",
       "26 103   151       \n",
       "27 111   150       \n",
       "28 110   146       \n",
       "29 105   142       \n",
       "30 108   135       \n",
       "31 104   112       \n",
       "32 107   108       \n",
       "33 112    77       \n",
       "34 113    63       "
      ]
     },
     "metadata": {},
     "output_type": "display_data"
    }
   ],
   "source": [
    "df2_cong_others"
   ]
  },
  {
   "cell_type": "code",
   "execution_count": 22,
   "id": "540d64ff",
   "metadata": {},
   "outputs": [
    {
     "data": {
      "image/png": "[encoded data removed]",
      "text/plain": [
       "plot without title"
      ]
     },
     "metadata": {
      "image/png": {
       "height": 420,
       "width": 420
      }
     },
     "output_type": "display_data"
    }
   ],
   "source": [
    "ggplot(df2_cong_others,aes(x=cong, y=other_bills)) + geom_line()"
   ]
  },
  {
   "cell_type": "code",
   "execution_count": null,
   "id": "5ebb7c41",
   "metadata": {},
   "outputs": [],
   "source": []
  }
 ],
 "metadata": {
  "kernelspec": {
   "display_name": "R",
   "language": "R",
   "name": "ir"
  },
  "language_info": {
   "codemirror_mode": "r",
   "file_extension": ".r",
   "mimetype": "text/x-r-source",
   "name": "R",
   "pygments_lexer": "r",
   "version": "4.2.1"
  }
 },
 "nbformat": 4,
 "nbformat_minor": 5
}
